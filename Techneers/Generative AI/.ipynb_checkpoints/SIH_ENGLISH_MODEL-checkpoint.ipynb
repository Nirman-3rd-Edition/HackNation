{
 "cells": [
  {
   "cell_type": "code",
   "execution_count": 1,
   "id": "019b2bc2",
   "metadata": {},
   "outputs": [],
   "source": [
    "import pandas as pd\n",
    "import pickle\n",
    "from sklearn.model_selection import train_test_split\n",
    "from sklearn.feature_extraction.text import CountVectorizer\n",
    "from sklearn.naive_bayes import MultinomialNB\n",
    "from sklearn.metrics import classification_report, accuracy_score\n",
    "import warnings\n",
    "warnings.filterwarnings('ignore')"
   ]
  },
  {
   "cell_type": "code",
   "execution_count": 2,
   "id": "57c28b75",
   "metadata": {},
   "outputs": [],
   "source": [
    "# Create a DataFrame from the dataset\n",
    "df = pd.read_csv(\"dataset.csv\")\n",
    "\n",
    "# Split the dataset into training and testing sets\n",
    "X_train, X_test, y_train, y_test = train_test_split(df['User Input'], df['Service Category'], test_size=0.2,random_state=42)"
   ]
  },
  {
   "cell_type": "code",
   "execution_count": 3,
   "id": "501d4816",
   "metadata": {},
   "outputs": [],
   "source": [
    "# Initialize a CountVectorizer\n",
    "count_vectorizer = CountVectorizer()\n",
    "\n",
    "# Fit and transform the training data\n",
    "X_train_counts = count_vectorizer.fit_transform(X_train)\n",
    "\n",
    "# Initialize a Multinomial Naive Bayes classifier\n",
    "classifier = MultinomialNB()\n",
    "\n",
    "# Train the classifier\n",
    "classifier.fit(X_train_counts, y_train)\n",
    "\n",
    "# Transform the test data using the same vectorizer\n",
    "X_test_counts = count_vectorizer.transform(X_test)\n",
    "\n",
    "# Make predictions on the test data\n",
    "y_pred = classifier.predict(X_test_counts)"
   ]
  },
  {
   "cell_type": "code",
   "execution_count": 4,
   "id": "e0f05805",
   "metadata": {},
   "outputs": [],
   "source": [
    "# Function to make recommendations\n",
    "def make_recommendations(user_input):\n",
    "    # Vectorize user input using the same CountVectorizer\n",
    "    user_input_vector = count_vectorizer.transform([user_input])\n",
    "\n",
    "    # Predict the service category\n",
    "    prediction = classifier.predict(user_input_vector)\n",
    "\n",
    "    # Return the recommended service category\n",
    "    return prediction[0]"
   ]
  },
  {
   "cell_type": "code",
   "execution_count": null,
   "id": "93c58fc6",
   "metadata": {},
   "outputs": [
    {
     "name": "stdin",
     "output_type": "stream",
     "text": [
      "Please describe your needs (type 'exit' to quit):  hello\n"
     ]
    },
    {
     "name": "stdout",
     "output_type": "stream",
     "text": [
      "<class 'str'>\n",
      "Based on your needs, you should consider services from: Mediator\n"
     ]
    }
   ],
   "source": [
    "# Sample user interaction loop\n",
    "while True:\n",
    "    user_input = input(\"Please describe your needs (type 'exit' to quit): \")\n",
    "    if user_input.lower() == 'exit':\n",
    "        break\n",
    "\n",
    "    recommendation = make_recommendations(user_input)\n",
    "    print(f\"Based on your needs, you should consider services from: {recommendation}\")"
   ]
  },
  {
   "cell_type": "code",
   "execution_count": 12,
   "id": "5929b8ab",
   "metadata": {},
   "outputs": [],
   "source": [
    "#to dump the pickle file\n",
    "\n",
    "pickle.dump(classifier, open('SIH_ENGLISH_MODEL.pkl', 'wb'))"
   ]
  },
  {
   "cell_type": "code",
   "execution_count": null,
   "id": "93e2fc3c",
   "metadata": {},
   "outputs": [],
   "source": []
  }
 ],
 "metadata": {
  "kernelspec": {
   "display_name": "Python 3 (ipykernel)",
   "language": "python",
   "name": "python3"
  },
  "language_info": {
   "codemirror_mode": {
    "name": "ipython",
    "version": 3
   },
   "file_extension": ".py",
   "mimetype": "text/x-python",
   "name": "python",
   "nbconvert_exporter": "python",
   "pygments_lexer": "ipython3",
   "version": "3.10.9"
  }
 },
 "nbformat": 4,
 "nbformat_minor": 5
}
