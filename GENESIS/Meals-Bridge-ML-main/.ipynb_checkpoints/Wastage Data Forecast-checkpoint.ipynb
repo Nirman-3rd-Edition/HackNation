{
 "cells": [
  {
   "cell_type": "code",
   "execution_count": 1,
   "id": "9cd38370",
   "metadata": {},
   "outputs": [],
   "source": [
    "import numpy as np\n",
    "import pandas as pd\n",
    "import tensorflow as tf\n",
    "from tensorflow.keras.models import Sequential\n",
    "from tensorflow.keras.layers import Dense,LSTM\n",
    "import matplotlib.pyplot as plt\n",
    "import seaborn as sns\n",
    "from sklearn.preprocessing import StandardScaler, MinMaxScaler\n",
    "from sklearn.metrics import mean_squared_error,r2_score,mean_absolute_error\n",
    "%matplotlib inline"
   ]
  },
  {
   "cell_type": "code",
   "execution_count": 2,
   "id": "39bbf759",
   "metadata": {},
   "outputs": [
    {
     "data": {
      "text/plain": [
       "'2.10.1'"
      ]
     },
     "execution_count": 2,
     "metadata": {},
     "output_type": "execute_result"
    }
   ],
   "source": [
    "tf.__version__"
   ]
  },
  {
   "cell_type": "code",
   "execution_count": 3,
   "id": "8c4ec681",
   "metadata": {},
   "outputs": [],
   "source": [
    "df = pd.read_csv('./Hostel_Waste_Data.csv')"
   ]
  },
  {
   "cell_type": "code",
   "execution_count": 4,
   "id": "3b92636f",
   "metadata": {},
   "outputs": [
    {
     "data": {
      "text/html": [
       "<div>\n",
       "<style scoped>\n",
       "    .dataframe tbody tr th:only-of-type {\n",
       "        vertical-align: middle;\n",
       "    }\n",
       "\n",
       "    .dataframe tbody tr th {\n",
       "        vertical-align: top;\n",
       "    }\n",
       "\n",
       "    .dataframe thead th {\n",
       "        text-align: right;\n",
       "    }\n",
       "</style>\n",
       "<table border=\"1\" class=\"dataframe\">\n",
       "  <thead>\n",
       "    <tr style=\"text-align: right;\">\n",
       "      <th></th>\n",
       "      <th>Prepared</th>\n",
       "      <th>Taken</th>\n",
       "      <th>Waste</th>\n",
       "    </tr>\n",
       "  </thead>\n",
       "  <tbody>\n",
       "    <tr>\n",
       "      <th>0</th>\n",
       "      <td>950</td>\n",
       "      <td>710</td>\n",
       "      <td>240</td>\n",
       "    </tr>\n",
       "    <tr>\n",
       "      <th>1</th>\n",
       "      <td>1000</td>\n",
       "      <td>800</td>\n",
       "      <td>200</td>\n",
       "    </tr>\n",
       "    <tr>\n",
       "      <th>2</th>\n",
       "      <td>871</td>\n",
       "      <td>702</td>\n",
       "      <td>169</td>\n",
       "    </tr>\n",
       "    <tr>\n",
       "      <th>3</th>\n",
       "      <td>997</td>\n",
       "      <td>891</td>\n",
       "      <td>106</td>\n",
       "    </tr>\n",
       "    <tr>\n",
       "      <th>4</th>\n",
       "      <td>900</td>\n",
       "      <td>700</td>\n",
       "      <td>200</td>\n",
       "    </tr>\n",
       "  </tbody>\n",
       "</table>\n",
       "</div>"
      ],
      "text/plain": [
       "   Prepared  Taken  Waste\n",
       "0       950    710    240\n",
       "1      1000    800    200\n",
       "2       871    702    169\n",
       "3       997    891    106\n",
       "4       900    700    200"
      ]
     },
     "execution_count": 4,
     "metadata": {},
     "output_type": "execute_result"
    }
   ],
   "source": [
    "df.head()"
   ]
  },
  {
   "cell_type": "code",
   "execution_count": 5,
   "id": "5d752820",
   "metadata": {
    "scrolled": true
   },
   "outputs": [
    {
     "data": {
      "text/html": [
       "<div>\n",
       "<style scoped>\n",
       "    .dataframe tbody tr th:only-of-type {\n",
       "        vertical-align: middle;\n",
       "    }\n",
       "\n",
       "    .dataframe tbody tr th {\n",
       "        vertical-align: top;\n",
       "    }\n",
       "\n",
       "    .dataframe thead th {\n",
       "        text-align: right;\n",
       "    }\n",
       "</style>\n",
       "<table border=\"1\" class=\"dataframe\">\n",
       "  <thead>\n",
       "    <tr style=\"text-align: right;\">\n",
       "      <th></th>\n",
       "      <th>Prepared</th>\n",
       "      <th>Taken</th>\n",
       "      <th>Waste</th>\n",
       "    </tr>\n",
       "  </thead>\n",
       "  <tbody>\n",
       "    <tr>\n",
       "      <th>count</th>\n",
       "      <td>1782.000000</td>\n",
       "      <td>1782.000000</td>\n",
       "      <td>1782.000000</td>\n",
       "    </tr>\n",
       "    <tr>\n",
       "      <th>mean</th>\n",
       "      <td>911.125701</td>\n",
       "      <td>717.804714</td>\n",
       "      <td>193.320988</td>\n",
       "    </tr>\n",
       "    <tr>\n",
       "      <th>std</th>\n",
       "      <td>65.204674</td>\n",
       "      <td>67.829658</td>\n",
       "      <td>42.726376</td>\n",
       "    </tr>\n",
       "    <tr>\n",
       "      <th>min</th>\n",
       "      <td>780.000000</td>\n",
       "      <td>607.000000</td>\n",
       "      <td>50.000000</td>\n",
       "    </tr>\n",
       "    <tr>\n",
       "      <th>25%</th>\n",
       "      <td>850.000000</td>\n",
       "      <td>667.000000</td>\n",
       "      <td>180.000000</td>\n",
       "    </tr>\n",
       "    <tr>\n",
       "      <th>50%</th>\n",
       "      <td>900.000000</td>\n",
       "      <td>702.000000</td>\n",
       "      <td>200.000000</td>\n",
       "    </tr>\n",
       "    <tr>\n",
       "      <th>75%</th>\n",
       "      <td>980.000000</td>\n",
       "      <td>750.000000</td>\n",
       "      <td>200.000000</td>\n",
       "    </tr>\n",
       "    <tr>\n",
       "      <th>max</th>\n",
       "      <td>1000.000000</td>\n",
       "      <td>891.000000</td>\n",
       "      <td>370.000000</td>\n",
       "    </tr>\n",
       "  </tbody>\n",
       "</table>\n",
       "</div>"
      ],
      "text/plain": [
       "          Prepared        Taken        Waste\n",
       "count  1782.000000  1782.000000  1782.000000\n",
       "mean    911.125701   717.804714   193.320988\n",
       "std      65.204674    67.829658    42.726376\n",
       "min     780.000000   607.000000    50.000000\n",
       "25%     850.000000   667.000000   180.000000\n",
       "50%     900.000000   702.000000   200.000000\n",
       "75%     980.000000   750.000000   200.000000\n",
       "max    1000.000000   891.000000   370.000000"
      ]
     },
     "execution_count": 5,
     "metadata": {},
     "output_type": "execute_result"
    }
   ],
   "source": [
    "df.describe()"
   ]
  },
  {
   "cell_type": "code",
   "execution_count": 6,
   "id": "52eb0868",
   "metadata": {},
   "outputs": [
    {
     "name": "stdout",
     "output_type": "stream",
     "text": [
      "<class 'pandas.core.frame.DataFrame'>\n",
      "RangeIndex: 1782 entries, 0 to 1781\n",
      "Data columns (total 3 columns):\n",
      " #   Column    Non-Null Count  Dtype\n",
      "---  ------    --------------  -----\n",
      " 0   Prepared  1782 non-null   int64\n",
      " 1   Taken     1782 non-null   int64\n",
      " 2   Waste     1782 non-null   int64\n",
      "dtypes: int64(3)\n",
      "memory usage: 41.9 KB\n"
     ]
    }
   ],
   "source": [
    "df.info()"
   ]
  },
  {
   "cell_type": "code",
   "execution_count": 7,
   "id": "9b1bc311",
   "metadata": {},
   "outputs": [],
   "source": [
    "# Define a function to create the dataset for LSTM\n",
    "def create_dataset(data, time_steps):\n",
    "    X, y = [], []\n",
    "    for i in range(len(data) - time_steps):\n",
    "        X.append(data[i:(i + time_steps), :])\n",
    "        y.append(data[i + time_steps, :])\n",
    "    return np.array(X), np.array(y)"
   ]
  },
  {
   "cell_type": "code",
   "execution_count": 8,
   "id": "53c6749c",
   "metadata": {},
   "outputs": [
    {
     "data": {
      "text/plain": [
       "(1782,)"
      ]
     },
     "execution_count": 8,
     "metadata": {},
     "output_type": "execute_result"
    }
   ],
   "source": [
    "df['Waste'].shape"
   ]
  },
  {
   "cell_type": "code",
   "execution_count": 9,
   "id": "5f00bf9f",
   "metadata": {},
   "outputs": [],
   "source": [
    "dataset = df['Waste'].values.reshape(1782,1)\n",
    "scaler = MinMaxScaler()\n",
    "dataset = scaler.fit_transform(dataset)"
   ]
  },
  {
   "cell_type": "code",
   "execution_count": 10,
   "id": "75c255c1",
   "metadata": {},
   "outputs": [],
   "source": [
    "# Determine the number of time steps\n",
    "time_steps = 50  # Or you can set it based on your preference\n",
    "\n",
    "# Create the dataset with appropriate time steps\n",
    "X, y = create_dataset(dataset, time_steps)"
   ]
  },
  {
   "cell_type": "code",
   "execution_count": 11,
   "id": "2b03165d",
   "metadata": {},
   "outputs": [
    {
     "data": {
      "text/plain": [
       "(1732, 1732)"
      ]
     },
     "execution_count": 11,
     "metadata": {},
     "output_type": "execute_result"
    }
   ],
   "source": [
    "len(X),len(y)"
   ]
  },
  {
   "cell_type": "code",
   "execution_count": 12,
   "id": "82d9421c",
   "metadata": {},
   "outputs": [],
   "source": [
    "train_size = int(len(X) * 0.8)\n",
    "test_size = len(X) - train_size"
   ]
  },
  {
   "cell_type": "code",
   "execution_count": 13,
   "id": "60076cc8",
   "metadata": {},
   "outputs": [],
   "source": [
    "X_train, X_test = X[0:train_size,:], X[train_size:len(X),:]\n",
    "y_train, y_test = y[0:train_size,:], y[train_size:len(y),:]"
   ]
  },
  {
   "cell_type": "code",
   "execution_count": 14,
   "id": "1d4f8fa7",
   "metadata": {},
   "outputs": [
    {
     "data": {
      "text/plain": [
       "((1385, 50, 1), (347, 50, 1))"
      ]
     },
     "execution_count": 14,
     "metadata": {},
     "output_type": "execute_result"
    }
   ],
   "source": [
    "X_train.shape, X_test.shape"
   ]
  },
  {
   "cell_type": "code",
   "execution_count": 15,
   "id": "1decf403",
   "metadata": {},
   "outputs": [],
   "source": [
    "# Reshape input to be [samples, time steps, features]\n",
    "X_train = np.reshape(X_train, (X_train.shape[0], X_train.shape[1], 1))\n",
    "X_test = np.reshape(X_test, (X_test.shape[0], X_test.shape[1], 1))"
   ]
  },
  {
   "cell_type": "code",
   "execution_count": 16,
   "id": "33494c10",
   "metadata": {
    "scrolled": true
   },
   "outputs": [
    {
     "name": "stdout",
     "output_type": "stream",
     "text": [
      "WARNING:tensorflow:Layer lstm will not use cuDNN kernels since it doesn't meet the criteria. It will use a generic GPU kernel as fallback when running on GPU.\n"
     ]
    }
   ],
   "source": [
    "# Define the LSTM model\n",
    "model = Sequential()\n",
    "model.add(LSTM(units=100, activation='relu', input_shape=(X_train.shape[1], X_train.shape[2])))\n",
    "model.add(Dense(units=50, activation='relu'))\n",
    "model.add(Dense(units=1))\n",
    "model.compile(optimizer='adam', loss='mean_squared_error')"
   ]
  },
  {
   "cell_type": "code",
   "execution_count": 17,
   "id": "8d01ef98",
   "metadata": {},
   "outputs": [
    {
     "name": "stdout",
     "output_type": "stream",
     "text": [
      "Model: \"sequential\"\n",
      "_________________________________________________________________\n",
      " Layer (type)                Output Shape              Param #   \n",
      "=================================================================\n",
      " lstm (LSTM)                 (None, 100)               40800     \n",
      "                                                                 \n",
      " dense (Dense)               (None, 50)                5050      \n",
      "                                                                 \n",
      " dense_1 (Dense)             (None, 1)                 51        \n",
      "                                                                 \n",
      "=================================================================\n",
      "Total params: 45,901\n",
      "Trainable params: 45,901\n",
      "Non-trainable params: 0\n",
      "_________________________________________________________________\n"
     ]
    }
   ],
   "source": [
    "model.summary()"
   ]
  },
  {
   "cell_type": "code",
   "execution_count": null,
   "id": "4829f690",
   "metadata": {},
   "outputs": [
    {
     "name": "stdout",
     "output_type": "stream",
     "text": [
      "Epoch 1/100\n",
      "22/22 [==============================] - 5s 99ms/step - loss: 0.0807\n",
      "Epoch 2/100\n",
      "22/22 [==============================] - 2s 100ms/step - loss: 0.0188\n",
      "Epoch 3/100\n",
      "22/22 [==============================] - 2s 105ms/step - loss: 0.0183\n",
      "Epoch 4/100\n",
      "22/22 [==============================] - 2s 103ms/step - loss: 0.0183\n",
      "Epoch 5/100\n",
      "22/22 [==============================] - 2s 97ms/step - loss: 0.0179\n",
      "Epoch 6/100\n",
      "22/22 [==============================] - 2s 100ms/step - loss: 0.0179\n",
      "Epoch 7/100\n",
      "22/22 [==============================] - 2s 101ms/step - loss: 0.0181\n",
      "Epoch 8/100\n",
      "22/22 [==============================] - 2s 100ms/step - loss: 0.0181\n",
      "Epoch 9/100\n",
      "22/22 [==============================] - 2s 97ms/step - loss: 0.0181\n",
      "Epoch 10/100\n",
      "22/22 [==============================] - 2s 98ms/step - loss: 0.0182\n",
      "Epoch 11/100\n",
      "22/22 [==============================] - 2s 100ms/step - loss: 0.0179\n",
      "Epoch 12/100\n",
      "22/22 [==============================] - 2s 97ms/step - loss: 0.0179\n",
      "Epoch 13/100\n",
      "22/22 [==============================] - 2s 95ms/step - loss: 0.0179\n",
      "Epoch 14/100\n",
      "22/22 [==============================] - 2s 90ms/step - loss: 0.0179\n",
      "Epoch 15/100\n",
      "22/22 [==============================] - 2s 99ms/step - loss: 0.0179\n",
      "Epoch 16/100\n",
      "22/22 [==============================] - 2s 103ms/step - loss: 0.0179\n",
      "Epoch 17/100\n",
      "22/22 [==============================] - 2s 104ms/step - loss: 0.0178\n",
      "Epoch 18/100\n",
      "22/22 [==============================] - 2s 102ms/step - loss: 0.0178\n",
      "Epoch 19/100\n",
      "22/22 [==============================] - 2s 91ms/step - loss: 0.0178\n",
      "Epoch 20/100\n",
      "22/22 [==============================] - 2s 101ms/step - loss: 0.0179\n",
      "Epoch 21/100\n",
      "22/22 [==============================] - 2s 98ms/step - loss: 0.0177\n",
      "Epoch 22/100\n",
      "22/22 [==============================] - 2s 103ms/step - loss: 0.0177\n",
      "Epoch 23/100\n",
      "22/22 [==============================] - 2s 108ms/step - loss: 0.0178\n",
      "Epoch 24/100\n",
      "22/22 [==============================] - 2s 101ms/step - loss: 0.0177\n",
      "Epoch 25/100\n",
      " 3/22 [===>..........................] - ETA: 1s - loss: 0.0165"
     ]
    }
   ],
   "source": [
    "# Train the model\n",
    "model.fit(X_train, y_train, epochs=100, batch_size=64, verbose=1)"
   ]
  },
  {
   "cell_type": "code",
   "execution_count": 15,
   "id": "073c91b6",
   "metadata": {},
   "outputs": [
    {
     "name": "stdout",
     "output_type": "stream",
     "text": [
      "44/44 [==============================] - 1s 16ms/step\n",
      "11/11 [==============================] - 0s 13ms/step\n"
     ]
    }
   ],
   "source": [
    "# Make predictions\n",
    "train_predict = model.predict(X_train)\n",
    "test_predict = model.predict(X_test)"
   ]
  },
  {
   "cell_type": "code",
   "execution_count": 25,
   "id": "004b256f",
   "metadata": {},
   "outputs": [
    {
     "data": {
      "text/plain": [
       "0.07911021457252089"
      ]
     },
     "execution_count": 25,
     "metadata": {},
     "output_type": "execute_result"
    }
   ],
   "source": [
    "mean_absolute_error(y_train,train_predict)"
   ]
  },
  {
   "cell_type": "code",
   "execution_count": 26,
   "id": "530c04f4",
   "metadata": {},
   "outputs": [
    {
     "data": {
      "text/plain": [
       "0.08344774909253079"
      ]
     },
     "execution_count": 26,
     "metadata": {},
     "output_type": "execute_result"
    }
   ],
   "source": [
    "mean_absolute_error(y_test,test_predict)"
   ]
  },
  {
   "cell_type": "code",
   "execution_count": 16,
   "id": "4477ca81",
   "metadata": {},
   "outputs": [],
   "source": [
    "# Invert predictions to original scale\n",
    "train_predict = scaler.inverse_transform(train_predict)\n",
    "y_train = scaler.inverse_transform(y_train)\n",
    "test_predict = scaler.inverse_transform(test_predict)\n",
    "y_test = scaler.inverse_transform(y_test)"
   ]
  },
  {
   "cell_type": "code",
   "execution_count": 19,
   "id": "d6f14494",
   "metadata": {},
   "outputs": [
    {
     "data": {
      "text/plain": [
       "array([[192.1794 ],\n",
       "       [192.20436],\n",
       "       [192.13043],\n",
       "       ...,\n",
       "       [192.96829],\n",
       "       [193.02902],\n",
       "       [192.98065]], dtype=float32)"
      ]
     },
     "execution_count": 19,
     "metadata": {},
     "output_type": "execute_result"
    }
   ],
   "source": [
    "train_predict"
   ]
  },
  {
   "cell_type": "code",
   "execution_count": 20,
   "id": "08688f4c",
   "metadata": {
    "scrolled": true
   },
   "outputs": [
    {
     "data": {
      "text/plain": [
       "array([[200.],\n",
       "       [180.],\n",
       "       [180.],\n",
       "       ...,\n",
       "       [220.],\n",
       "       [200.],\n",
       "       [200.]])"
      ]
     },
     "execution_count": 20,
     "metadata": {},
     "output_type": "execute_result"
    }
   ],
   "source": [
    "y_train"
   ]
  },
  {
   "cell_type": "code",
   "execution_count": 21,
   "id": "16ea1a34",
   "metadata": {},
   "outputs": [
    {
     "data": {
      "text/plain": [
       "25.315268671469568"
      ]
     },
     "execution_count": 21,
     "metadata": {},
     "output_type": "execute_result"
    }
   ],
   "source": [
    "mean_absolute_error(y_train,train_predict)"
   ]
  },
  {
   "cell_type": "code",
   "execution_count": 23,
   "id": "8c867c99",
   "metadata": {},
   "outputs": [
    {
     "data": {
      "text/plain": [
       "26.703279962457223"
      ]
     },
     "execution_count": 23,
     "metadata": {},
     "output_type": "execute_result"
    }
   ],
   "source": [
    "mean_absolute_error(y_test,test_predict)"
   ]
  },
  {
   "cell_type": "code",
   "execution_count": 22,
   "id": "80da047f",
   "metadata": {},
   "outputs": [
    {
     "name": "stdout",
     "output_type": "stream",
     "text": [
      "Train RMSE: 42.30\n",
      "Test RMSE: 44.33\n"
     ]
    }
   ],
   "source": [
    "# Calculate root mean squared error\n",
    "train_score = np.sqrt(mean_squared_error(y_train, train_predict))\n",
    "test_score = np.sqrt(mean_squared_error(y_test, test_predict))\n",
    "print('Train RMSE: %.2f' % (train_score))\n",
    "print('Test RMSE: %.2f' % (test_score))"
   ]
  },
  {
   "cell_type": "code",
   "execution_count": null,
   "id": "0fc61c66",
   "metadata": {},
   "outputs": [],
   "source": []
  }
 ],
 "metadata": {
  "kernelspec": {
   "display_name": "tfgpu",
   "language": "python",
   "name": "tfgpu"
  },
  "language_info": {
   "codemirror_mode": {
    "name": "ipython",
    "version": 3
   },
   "file_extension": ".py",
   "mimetype": "text/x-python",
   "name": "python",
   "nbconvert_exporter": "python",
   "pygments_lexer": "ipython3",
   "version": "3.9.0"
  }
 },
 "nbformat": 4,
 "nbformat_minor": 5
}
