{
 "cells": [
  {
   "cell_type": "code",
   "execution_count": 1,
   "id": "9cd38370",
   "metadata": {},
   "outputs": [],
   "source": [
    "import numpy as np\n",
    "import pandas as pd\n",
    "import tensorflow as tf\n",
    "from tensorflow.keras.models import Sequential,load_model\n",
    "from tensorflow.keras.layers import Dense,LSTM\n",
    "import matplotlib.pyplot as plt\n",
    "import seaborn as sns\n",
    "from sklearn.preprocessing import StandardScaler, MinMaxScaler\n",
    "from sklearn.metrics import mean_squared_error,r2_score,mean_absolute_error\n",
    "%matplotlib inline"
   ]
  },
  {
   "cell_type": "code",
   "execution_count": 2,
   "id": "39bbf759",
   "metadata": {},
   "outputs": [
    {
     "data": {
      "text/plain": [
       "'2.10.1'"
      ]
     },
     "execution_count": 2,
     "metadata": {},
     "output_type": "execute_result"
    }
   ],
   "source": [
    "tf.__version__"
   ]
  },
  {
   "cell_type": "code",
   "execution_count": 3,
   "id": "8c4ec681",
   "metadata": {},
   "outputs": [],
   "source": [
    "df = pd.read_csv('./Hostel_Waste_Data.csv')"
   ]
  },
  {
   "cell_type": "code",
   "execution_count": 4,
   "id": "3b92636f",
   "metadata": {},
   "outputs": [
    {
     "data": {
      "text/html": [
       "<div>\n",
       "<style scoped>\n",
       "    .dataframe tbody tr th:only-of-type {\n",
       "        vertical-align: middle;\n",
       "    }\n",
       "\n",
       "    .dataframe tbody tr th {\n",
       "        vertical-align: top;\n",
       "    }\n",
       "\n",
       "    .dataframe thead th {\n",
       "        text-align: right;\n",
       "    }\n",
       "</style>\n",
       "<table border=\"1\" class=\"dataframe\">\n",
       "  <thead>\n",
       "    <tr style=\"text-align: right;\">\n",
       "      <th></th>\n",
       "      <th>Prepared</th>\n",
       "      <th>Taken</th>\n",
       "      <th>Waste</th>\n",
       "    </tr>\n",
       "  </thead>\n",
       "  <tbody>\n",
       "    <tr>\n",
       "      <th>0</th>\n",
       "      <td>950</td>\n",
       "      <td>710</td>\n",
       "      <td>240</td>\n",
       "    </tr>\n",
       "    <tr>\n",
       "      <th>1</th>\n",
       "      <td>1000</td>\n",
       "      <td>800</td>\n",
       "      <td>200</td>\n",
       "    </tr>\n",
       "    <tr>\n",
       "      <th>2</th>\n",
       "      <td>871</td>\n",
       "      <td>702</td>\n",
       "      <td>169</td>\n",
       "    </tr>\n",
       "    <tr>\n",
       "      <th>3</th>\n",
       "      <td>997</td>\n",
       "      <td>891</td>\n",
       "      <td>106</td>\n",
       "    </tr>\n",
       "    <tr>\n",
       "      <th>4</th>\n",
       "      <td>900</td>\n",
       "      <td>700</td>\n",
       "      <td>200</td>\n",
       "    </tr>\n",
       "  </tbody>\n",
       "</table>\n",
       "</div>"
      ],
      "text/plain": [
       "   Prepared  Taken  Waste\n",
       "0       950    710    240\n",
       "1      1000    800    200\n",
       "2       871    702    169\n",
       "3       997    891    106\n",
       "4       900    700    200"
      ]
     },
     "execution_count": 4,
     "metadata": {},
     "output_type": "execute_result"
    }
   ],
   "source": [
    "df.head()"
   ]
  },
  {
   "cell_type": "code",
   "execution_count": 5,
   "id": "5d752820",
   "metadata": {
    "scrolled": true
   },
   "outputs": [
    {
     "data": {
      "text/html": [
       "<div>\n",
       "<style scoped>\n",
       "    .dataframe tbody tr th:only-of-type {\n",
       "        vertical-align: middle;\n",
       "    }\n",
       "\n",
       "    .dataframe tbody tr th {\n",
       "        vertical-align: top;\n",
       "    }\n",
       "\n",
       "    .dataframe thead th {\n",
       "        text-align: right;\n",
       "    }\n",
       "</style>\n",
       "<table border=\"1\" class=\"dataframe\">\n",
       "  <thead>\n",
       "    <tr style=\"text-align: right;\">\n",
       "      <th></th>\n",
       "      <th>Prepared</th>\n",
       "      <th>Taken</th>\n",
       "      <th>Waste</th>\n",
       "    </tr>\n",
       "  </thead>\n",
       "  <tbody>\n",
       "    <tr>\n",
       "      <th>count</th>\n",
       "      <td>1782.000000</td>\n",
       "      <td>1782.000000</td>\n",
       "      <td>1782.000000</td>\n",
       "    </tr>\n",
       "    <tr>\n",
       "      <th>mean</th>\n",
       "      <td>911.125701</td>\n",
       "      <td>717.804714</td>\n",
       "      <td>193.320988</td>\n",
       "    </tr>\n",
       "    <tr>\n",
       "      <th>std</th>\n",
       "      <td>65.204674</td>\n",
       "      <td>67.829658</td>\n",
       "      <td>42.726376</td>\n",
       "    </tr>\n",
       "    <tr>\n",
       "      <th>min</th>\n",
       "      <td>780.000000</td>\n",
       "      <td>607.000000</td>\n",
       "      <td>50.000000</td>\n",
       "    </tr>\n",
       "    <tr>\n",
       "      <th>25%</th>\n",
       "      <td>850.000000</td>\n",
       "      <td>667.000000</td>\n",
       "      <td>180.000000</td>\n",
       "    </tr>\n",
       "    <tr>\n",
       "      <th>50%</th>\n",
       "      <td>900.000000</td>\n",
       "      <td>702.000000</td>\n",
       "      <td>200.000000</td>\n",
       "    </tr>\n",
       "    <tr>\n",
       "      <th>75%</th>\n",
       "      <td>980.000000</td>\n",
       "      <td>750.000000</td>\n",
       "      <td>200.000000</td>\n",
       "    </tr>\n",
       "    <tr>\n",
       "      <th>max</th>\n",
       "      <td>1000.000000</td>\n",
       "      <td>891.000000</td>\n",
       "      <td>370.000000</td>\n",
       "    </tr>\n",
       "  </tbody>\n",
       "</table>\n",
       "</div>"
      ],
      "text/plain": [
       "          Prepared        Taken        Waste\n",
       "count  1782.000000  1782.000000  1782.000000\n",
       "mean    911.125701   717.804714   193.320988\n",
       "std      65.204674    67.829658    42.726376\n",
       "min     780.000000   607.000000    50.000000\n",
       "25%     850.000000   667.000000   180.000000\n",
       "50%     900.000000   702.000000   200.000000\n",
       "75%     980.000000   750.000000   200.000000\n",
       "max    1000.000000   891.000000   370.000000"
      ]
     },
     "execution_count": 5,
     "metadata": {},
     "output_type": "execute_result"
    }
   ],
   "source": [
    "df.describe()"
   ]
  },
  {
   "cell_type": "code",
   "execution_count": 6,
   "id": "52eb0868",
   "metadata": {},
   "outputs": [
    {
     "name": "stdout",
     "output_type": "stream",
     "text": [
      "<class 'pandas.core.frame.DataFrame'>\n",
      "RangeIndex: 1782 entries, 0 to 1781\n",
      "Data columns (total 3 columns):\n",
      " #   Column    Non-Null Count  Dtype\n",
      "---  ------    --------------  -----\n",
      " 0   Prepared  1782 non-null   int64\n",
      " 1   Taken     1782 non-null   int64\n",
      " 2   Waste     1782 non-null   int64\n",
      "dtypes: int64(3)\n",
      "memory usage: 41.9 KB\n"
     ]
    }
   ],
   "source": [
    "df.info()"
   ]
  },
  {
   "cell_type": "code",
   "execution_count": 7,
   "id": "9b1bc311",
   "metadata": {},
   "outputs": [],
   "source": [
    "# Define a function to create the dataset for LSTM\n",
    "def create_dataset(data, time_steps):\n",
    "    X, y = [], []\n",
    "    for i in range(len(data) - time_steps):\n",
    "        X.append(data[i:(i + time_steps), :])\n",
    "        y.append(data[i + time_steps, :])\n",
    "    return np.array(X), np.array(y)"
   ]
  },
  {
   "cell_type": "code",
   "execution_count": 8,
   "id": "53c6749c",
   "metadata": {},
   "outputs": [
    {
     "data": {
      "text/plain": [
       "(1782,)"
      ]
     },
     "execution_count": 8,
     "metadata": {},
     "output_type": "execute_result"
    }
   ],
   "source": [
    "df['Waste'].shape"
   ]
  },
  {
   "cell_type": "code",
   "execution_count": 9,
   "id": "5f00bf9f",
   "metadata": {},
   "outputs": [],
   "source": [
    "dataset = df['Waste'].values.reshape(1782,1)\n",
    "scaler = MinMaxScaler()\n",
    "dataset = scaler.fit_transform(dataset)"
   ]
  },
  {
   "cell_type": "code",
   "execution_count": 10,
   "id": "c0eef4ef",
   "metadata": {},
   "outputs": [],
   "source": [
    "from joblib import dump,load\n",
    "dump(scaler, 'minmax_scaler.joblib')\n",
    "loaded_scaler = load('minmax_scaler.joblib')"
   ]
  },
  {
   "cell_type": "code",
   "execution_count": 11,
   "id": "75c255c1",
   "metadata": {},
   "outputs": [],
   "source": [
    "# Determine the number of time steps\n",
    "time_steps = 50  # Or you can set it based on your preference\n",
    "\n",
    "# Create the dataset with appropriate time steps\n",
    "X, y = create_dataset(dataset, time_steps)"
   ]
  },
  {
   "cell_type": "code",
   "execution_count": 12,
   "id": "d7b0e8fd",
   "metadata": {},
   "outputs": [
    {
     "data": {
      "text/plain": [
       "((1732, 50, 1), (1732, 1))"
      ]
     },
     "execution_count": 12,
     "metadata": {},
     "output_type": "execute_result"
    }
   ],
   "source": [
    "X.shape, y.shape"
   ]
  },
  {
   "cell_type": "code",
   "execution_count": 13,
   "id": "82d9421c",
   "metadata": {},
   "outputs": [],
   "source": [
    "train_size = int(len(X) * 0.8)\n",
    "test_size = len(X) - train_size"
   ]
  },
  {
   "cell_type": "code",
   "execution_count": 14,
   "id": "60076cc8",
   "metadata": {},
   "outputs": [],
   "source": [
    "X_train, X_test = X[0:train_size], X[train_size:len(X)]\n",
    "y_train, y_test = y[0:train_size], y[train_size:len(y)]"
   ]
  },
  {
   "cell_type": "code",
   "execution_count": 15,
   "id": "1d4f8fa7",
   "metadata": {
    "scrolled": true
   },
   "outputs": [
    {
     "data": {
      "text/plain": [
       "((1385, 50, 1), (347, 50, 1))"
      ]
     },
     "execution_count": 15,
     "metadata": {},
     "output_type": "execute_result"
    }
   ],
   "source": [
    "X_train.shape, X_test.shape"
   ]
  },
  {
   "cell_type": "code",
   "execution_count": 16,
   "id": "224ebf98",
   "metadata": {},
   "outputs": [
    {
     "data": {
      "text/plain": [
       "((1385, 1), (347, 1))"
      ]
     },
     "execution_count": 16,
     "metadata": {},
     "output_type": "execute_result"
    }
   ],
   "source": [
    "y_train.shape, y_test.shape"
   ]
  },
  {
   "cell_type": "code",
   "execution_count": 17,
   "id": "33494c10",
   "metadata": {
    "scrolled": true
   },
   "outputs": [
    {
     "name": "stdout",
     "output_type": "stream",
     "text": [
      "WARNING:tensorflow:Layer lstm will not use cuDNN kernels since it doesn't meet the criteria. It will use a generic GPU kernel as fallback when running on GPU.\n"
     ]
    }
   ],
   "source": [
    "# Define the LSTM model\n",
    "model = Sequential()\n",
    "model.add(LSTM(units=50, activation='relu', input_shape=(X_train.shape[1], X_train.shape[2])))\n",
    "model.add(Dense(units=25, activation='relu'))\n",
    "model.add(Dense(units=1))\n",
    "model.compile(optimizer='adam', loss='mean_squared_error')"
   ]
  },
  {
   "cell_type": "code",
   "execution_count": 18,
   "id": "3fef62fc",
   "metadata": {},
   "outputs": [
    {
     "name": "stdout",
     "output_type": "stream",
     "text": [
      "Model: \"sequential\"\n",
      "_________________________________________________________________\n",
      " Layer (type)                Output Shape              Param #   \n",
      "=================================================================\n",
      " lstm (LSTM)                 (None, 50)                10400     \n",
      "                                                                 \n",
      " dense (Dense)               (None, 25)                1275      \n",
      "                                                                 \n",
      " dense_1 (Dense)             (None, 1)                 26        \n",
      "                                                                 \n",
      "=================================================================\n",
      "Total params: 11,701\n",
      "Trainable params: 11,701\n",
      "Non-trainable params: 0\n",
      "_________________________________________________________________\n"
     ]
    }
   ],
   "source": [
    "model.summary()"
   ]
  },
  {
   "cell_type": "code",
   "execution_count": 19,
   "id": "4829f690",
   "metadata": {},
   "outputs": [
    {
     "name": "stdout",
     "output_type": "stream",
     "text": [
      "Epoch 1/100\n",
      "22/22 [==============================] - 4s 63ms/step - loss: 0.0663\n",
      "Epoch 2/100\n",
      "22/22 [==============================] - 1s 63ms/step - loss: 0.0190\n",
      "Epoch 3/100\n",
      "22/22 [==============================] - 1s 65ms/step - loss: 0.0185\n",
      "Epoch 4/100\n",
      "22/22 [==============================] - 1s 67ms/step - loss: 0.0182\n",
      "Epoch 5/100\n",
      "22/22 [==============================] - 1s 62ms/step - loss: 0.0184\n",
      "Epoch 6/100\n",
      "22/22 [==============================] - 1s 62ms/step - loss: 0.0183\n",
      "Epoch 7/100\n",
      "22/22 [==============================] - 1s 64ms/step - loss: 0.0182\n",
      "Epoch 8/100\n",
      "22/22 [==============================] - 1s 64ms/step - loss: 0.0182\n",
      "Epoch 9/100\n",
      "22/22 [==============================] - 1s 63ms/step - loss: 0.0180\n",
      "Epoch 10/100\n",
      "22/22 [==============================] - 1s 64ms/step - loss: 0.0180\n",
      "Epoch 11/100\n",
      "22/22 [==============================] - 1s 63ms/step - loss: 0.0180\n",
      "Epoch 12/100\n",
      "22/22 [==============================] - 1s 65ms/step - loss: 0.0180\n",
      "Epoch 13/100\n",
      "22/22 [==============================] - 1s 66ms/step - loss: 0.0181\n",
      "Epoch 14/100\n",
      "22/22 [==============================] - 2s 70ms/step - loss: 0.0179\n",
      "Epoch 15/100\n",
      "22/22 [==============================] - 1s 60ms/step - loss: 0.0179\n",
      "Epoch 16/100\n",
      "22/22 [==============================] - 1s 67ms/step - loss: 0.0178\n",
      "Epoch 17/100\n",
      "22/22 [==============================] - 1s 64ms/step - loss: 0.0178\n",
      "Epoch 18/100\n",
      "22/22 [==============================] - 1s 62ms/step - loss: 0.0180\n",
      "Epoch 19/100\n",
      "22/22 [==============================] - 1s 66ms/step - loss: 0.0178\n",
      "Epoch 20/100\n",
      "22/22 [==============================] - 1s 64ms/step - loss: 0.0178\n",
      "Epoch 21/100\n",
      "22/22 [==============================] - 1s 63ms/step - loss: 0.0178\n",
      "Epoch 22/100\n",
      "22/22 [==============================] - 1s 64ms/step - loss: 0.0182\n",
      "Epoch 23/100\n",
      "22/22 [==============================] - 1s 64ms/step - loss: 0.0178\n",
      "Epoch 24/100\n",
      "22/22 [==============================] - 1s 66ms/step - loss: 0.0178\n",
      "Epoch 25/100\n",
      "22/22 [==============================] - 2s 69ms/step - loss: 0.0181\n",
      "Epoch 26/100\n",
      "22/22 [==============================] - 2s 70ms/step - loss: 0.0177\n",
      "Epoch 27/100\n",
      "22/22 [==============================] - 1s 65ms/step - loss: 0.0176\n",
      "Epoch 28/100\n",
      "22/22 [==============================] - 1s 66ms/step - loss: 0.0176\n",
      "Epoch 29/100\n",
      "22/22 [==============================] - 1s 65ms/step - loss: 0.0176\n",
      "Epoch 30/100\n",
      "22/22 [==============================] - 1s 66ms/step - loss: 0.0177\n",
      "Epoch 31/100\n",
      "22/22 [==============================] - 1s 67ms/step - loss: 0.0179\n",
      "Epoch 32/100\n",
      "22/22 [==============================] - 2s 72ms/step - loss: 0.0178\n",
      "Epoch 33/100\n",
      "22/22 [==============================] - 1s 64ms/step - loss: 0.0177\n",
      "Epoch 34/100\n",
      "22/22 [==============================] - 1s 64ms/step - loss: 0.0178\n",
      "Epoch 35/100\n",
      "22/22 [==============================] - 2s 74ms/step - loss: 0.0177\n",
      "Epoch 36/100\n",
      "22/22 [==============================] - 1s 64ms/step - loss: 0.0176\n",
      "Epoch 37/100\n",
      "22/22 [==============================] - 1s 67ms/step - loss: 0.0177\n",
      "Epoch 38/100\n",
      "22/22 [==============================] - 1s 66ms/step - loss: 0.0177\n",
      "Epoch 39/100\n",
      "22/22 [==============================] - 1s 65ms/step - loss: 0.0176\n",
      "Epoch 40/100\n",
      "22/22 [==============================] - 2s 70ms/step - loss: 0.0177\n",
      "Epoch 41/100\n",
      "22/22 [==============================] - 2s 71ms/step - loss: 0.0176\n",
      "Epoch 42/100\n",
      "22/22 [==============================] - 2s 73ms/step - loss: 0.0177\n",
      "Epoch 43/100\n",
      "22/22 [==============================] - 1s 63ms/step - loss: 0.0176\n",
      "Epoch 44/100\n",
      "22/22 [==============================] - 1s 64ms/step - loss: 0.0176\n",
      "Epoch 45/100\n",
      "22/22 [==============================] - 2s 69ms/step - loss: 0.0176\n",
      "Epoch 46/100\n",
      "22/22 [==============================] - 1s 68ms/step - loss: 0.0176\n",
      "Epoch 47/100\n",
      "22/22 [==============================] - 1s 67ms/step - loss: 0.0176\n",
      "Epoch 48/100\n",
      "22/22 [==============================] - 2s 71ms/step - loss: 0.0178\n",
      "Epoch 49/100\n",
      "22/22 [==============================] - 2s 72ms/step - loss: 0.0176\n",
      "Epoch 50/100\n",
      "22/22 [==============================] - 2s 68ms/step - loss: 0.0176\n",
      "Epoch 51/100\n",
      "22/22 [==============================] - 2s 69ms/step - loss: 0.0177\n",
      "Epoch 52/100\n",
      "22/22 [==============================] - 1s 64ms/step - loss: 0.0175\n",
      "Epoch 53/100\n",
      "22/22 [==============================] - 2s 69ms/step - loss: 0.0176\n",
      "Epoch 54/100\n",
      "22/22 [==============================] - 2s 72ms/step - loss: 0.0176\n",
      "Epoch 55/100\n",
      "22/22 [==============================] - 1s 66ms/step - loss: 0.0175\n",
      "Epoch 56/100\n",
      "22/22 [==============================] - 1s 68ms/step - loss: 0.0177\n",
      "Epoch 57/100\n",
      "22/22 [==============================] - 1s 66ms/step - loss: 0.0177\n",
      "Epoch 58/100\n",
      "22/22 [==============================] - 1s 67ms/step - loss: 0.0177\n",
      "Epoch 59/100\n",
      "22/22 [==============================] - 2s 70ms/step - loss: 0.0176\n",
      "Epoch 60/100\n",
      "22/22 [==============================] - 2s 78ms/step - loss: 0.0175\n",
      "Epoch 61/100\n",
      "22/22 [==============================] - 1s 66ms/step - loss: 0.0177\n",
      "Epoch 62/100\n",
      "22/22 [==============================] - 2s 70ms/step - loss: 0.0175\n",
      "Epoch 63/100\n",
      "22/22 [==============================] - 2s 69ms/step - loss: 0.0175\n",
      "Epoch 64/100\n",
      "22/22 [==============================] - 2s 74ms/step - loss: 0.0175\n",
      "Epoch 65/100\n",
      "22/22 [==============================] - 2s 71ms/step - loss: 0.0175\n",
      "Epoch 66/100\n",
      "22/22 [==============================] - 1s 63ms/step - loss: 0.0176\n",
      "Epoch 67/100\n",
      "22/22 [==============================] - 2s 69ms/step - loss: 0.0176\n",
      "Epoch 68/100\n",
      "22/22 [==============================] - 1s 68ms/step - loss: 0.0175\n",
      "Epoch 69/100\n",
      "22/22 [==============================] - 2s 71ms/step - loss: 0.0175\n",
      "Epoch 70/100\n",
      "22/22 [==============================] - 1s 66ms/step - loss: 0.0175\n",
      "Epoch 71/100\n",
      "22/22 [==============================] - 1s 68ms/step - loss: 0.0175\n",
      "Epoch 72/100\n",
      "22/22 [==============================] - 1s 67ms/step - loss: 0.0175\n",
      "Epoch 73/100\n",
      "22/22 [==============================] - 2s 73ms/step - loss: 0.0177\n",
      "Epoch 74/100\n",
      "22/22 [==============================] - 1s 67ms/step - loss: 0.0177\n",
      "Epoch 75/100\n",
      "22/22 [==============================] - 2s 69ms/step - loss: 0.0176\n",
      "Epoch 76/100\n",
      "22/22 [==============================] - 2s 68ms/step - loss: 0.0177\n",
      "Epoch 77/100\n",
      "22/22 [==============================] - 1s 68ms/step - loss: 0.0177\n",
      "Epoch 78/100\n",
      "22/22 [==============================] - 1s 63ms/step - loss: 0.0175\n",
      "Epoch 79/100\n",
      "22/22 [==============================] - 1s 63ms/step - loss: 0.0177\n",
      "Epoch 80/100\n",
      "22/22 [==============================] - 2s 68ms/step - loss: 0.0175\n",
      "Epoch 81/100\n",
      "22/22 [==============================] - 1s 64ms/step - loss: 0.0174\n",
      "Epoch 82/100\n",
      "22/22 [==============================] - 1s 60ms/step - loss: 0.0179\n",
      "Epoch 83/100\n",
      "22/22 [==============================] - 2s 69ms/step - loss: 0.0179\n",
      "Epoch 84/100\n",
      "22/22 [==============================] - 2s 69ms/step - loss: 0.0177\n",
      "Epoch 85/100\n",
      "22/22 [==============================] - 1s 63ms/step - loss: 0.0175\n",
      "Epoch 86/100\n",
      "22/22 [==============================] - 2s 71ms/step - loss: 0.0175\n",
      "Epoch 87/100\n",
      "22/22 [==============================] - 2s 70ms/step - loss: 0.0175\n",
      "Epoch 88/100\n",
      "22/22 [==============================] - 2s 73ms/step - loss: 0.0176\n",
      "Epoch 89/100\n",
      "22/22 [==============================] - 1s 64ms/step - loss: 0.0175\n",
      "Epoch 90/100\n",
      "22/22 [==============================] - 1s 59ms/step - loss: 0.0175\n",
      "Epoch 91/100\n",
      "22/22 [==============================] - 1s 67ms/step - loss: 0.0175\n",
      "Epoch 92/100\n",
      "22/22 [==============================] - 1s 64ms/step - loss: 0.0176\n",
      "Epoch 93/100\n",
      "22/22 [==============================] - 1s 62ms/step - loss: 0.0174\n",
      "Epoch 94/100\n",
      "22/22 [==============================] - 1s 67ms/step - loss: 0.0175\n",
      "Epoch 95/100\n",
      "22/22 [==============================] - 1s 66ms/step - loss: 0.0176\n",
      "Epoch 96/100\n",
      "22/22 [==============================] - 1s 63ms/step - loss: 0.0175\n",
      "Epoch 97/100\n",
      "22/22 [==============================] - 1s 65ms/step - loss: 0.0176\n",
      "Epoch 98/100\n",
      "22/22 [==============================] - 2s 72ms/step - loss: 0.0176\n",
      "Epoch 99/100\n",
      "22/22 [==============================] - 2s 69ms/step - loss: 0.0175\n",
      "Epoch 100/100\n",
      "22/22 [==============================] - 1s 65ms/step - loss: 0.0175\n"
     ]
    },
    {
     "data": {
      "text/plain": [
       "<keras.callbacks.History at 0x2464c1578b0>"
      ]
     },
     "execution_count": 19,
     "metadata": {},
     "output_type": "execute_result"
    }
   ],
   "source": [
    "# Train the model\n",
    "model.fit(X_train, y_train, epochs=100, batch_size=64, verbose=1)"
   ]
  },
  {
   "cell_type": "code",
   "execution_count": 20,
   "id": "073c91b6",
   "metadata": {},
   "outputs": [
    {
     "name": "stdout",
     "output_type": "stream",
     "text": [
      "44/44 [==============================] - 1s 11ms/step\n",
      "11/11 [==============================] - 0s 10ms/step\n"
     ]
    }
   ],
   "source": [
    "# Make predictions\n",
    "train_predict = model.predict(X_train)\n",
    "test_predict = model.predict(X_test)"
   ]
  },
  {
   "cell_type": "code",
   "execution_count": 21,
   "id": "004b256f",
   "metadata": {},
   "outputs": [
    {
     "data": {
      "text/plain": [
       "0.07855937536442753"
      ]
     },
     "execution_count": 21,
     "metadata": {},
     "output_type": "execute_result"
    }
   ],
   "source": [
    "mean_absolute_error(y_train,train_predict)"
   ]
  },
  {
   "cell_type": "code",
   "execution_count": 22,
   "id": "530c04f4",
   "metadata": {},
   "outputs": [
    {
     "data": {
      "text/plain": [
       "0.08299945388472389"
      ]
     },
     "execution_count": 22,
     "metadata": {},
     "output_type": "execute_result"
    }
   ],
   "source": [
    "mean_absolute_error(y_test,test_predict)"
   ]
  },
  {
   "cell_type": "code",
   "execution_count": 23,
   "id": "4477ca81",
   "metadata": {},
   "outputs": [],
   "source": [
    "# Invert predictions to original scale\n",
    "train_predict = scaler.inverse_transform(train_predict)\n",
    "y_train = scaler.inverse_transform(y_train)\n",
    "test_predict = scaler.inverse_transform(test_predict)\n",
    "y_test = scaler.inverse_transform(y_test)"
   ]
  },
  {
   "cell_type": "code",
   "execution_count": 24,
   "id": "d6f14494",
   "metadata": {},
   "outputs": [
    {
     "data": {
      "text/plain": [
       "(1385, 1)"
      ]
     },
     "execution_count": 24,
     "metadata": {},
     "output_type": "execute_result"
    }
   ],
   "source": [
    "train_predict.shape"
   ]
  },
  {
   "cell_type": "code",
   "execution_count": 25,
   "id": "08688f4c",
   "metadata": {
    "scrolled": true
   },
   "outputs": [
    {
     "data": {
      "text/plain": [
       "(1385, 1)"
      ]
     },
     "execution_count": 25,
     "metadata": {},
     "output_type": "execute_result"
    }
   ],
   "source": [
    "y_train.shape"
   ]
  },
  {
   "cell_type": "code",
   "execution_count": 26,
   "id": "a3960dcf",
   "metadata": {},
   "outputs": [
    {
     "data": {
      "text/plain": [
       "(347, 1)"
      ]
     },
     "execution_count": 26,
     "metadata": {},
     "output_type": "execute_result"
    }
   ],
   "source": [
    "y_test.shape"
   ]
  },
  {
   "cell_type": "code",
   "execution_count": 27,
   "id": "b50f918f",
   "metadata": {},
   "outputs": [
    {
     "data": {
      "text/plain": [
       "(347, 1)"
      ]
     },
     "execution_count": 27,
     "metadata": {},
     "output_type": "execute_result"
    }
   ],
   "source": [
    "test_predict.shape"
   ]
  },
  {
   "cell_type": "code",
   "execution_count": 28,
   "id": "16ea1a34",
   "metadata": {},
   "outputs": [
    {
     "data": {
      "text/plain": [
       "25.13899997752496"
      ]
     },
     "execution_count": 28,
     "metadata": {},
     "output_type": "execute_result"
    }
   ],
   "source": [
    "mean_absolute_error(y_train,train_predict)"
   ]
  },
  {
   "cell_type": "code",
   "execution_count": 29,
   "id": "8c867c99",
   "metadata": {},
   "outputs": [
    {
     "data": {
      "text/plain": [
       "26.559825666356154"
      ]
     },
     "execution_count": 29,
     "metadata": {},
     "output_type": "execute_result"
    }
   ],
   "source": [
    "mean_absolute_error(y_test,test_predict)"
   ]
  },
  {
   "cell_type": "code",
   "execution_count": 30,
   "id": "80da047f",
   "metadata": {},
   "outputs": [
    {
     "name": "stdout",
     "output_type": "stream",
     "text": [
      "Train RMSE: 42.19\n",
      "Test RMSE: 44.30\n"
     ]
    }
   ],
   "source": [
    "# Calculate root mean squared error\n",
    "train_score = np.sqrt(mean_squared_error(y_train, train_predict))\n",
    "test_score = np.sqrt(mean_squared_error(y_test, test_predict))\n",
    "print('Train RMSE: %.2f' % (train_score))\n",
    "print('Test RMSE: %.2f' % (test_score))"
   ]
  },
  {
   "cell_type": "code",
   "execution_count": 31,
   "id": "0fc61c66",
   "metadata": {},
   "outputs": [],
   "source": [
    "# model.save('./model.h5')"
   ]
  },
  {
   "cell_type": "code",
   "execution_count": 32,
   "id": "ec0f24b2",
   "metadata": {},
   "outputs": [],
   "source": [
    "# model.save('./Models/Model_1/')"
   ]
  },
  {
   "cell_type": "code",
   "execution_count": null,
   "id": "968aa832",
   "metadata": {},
   "outputs": [],
   "source": []
  },
  {
   "cell_type": "code",
   "execution_count": 33,
   "id": "1982d9c2",
   "metadata": {},
   "outputs": [
    {
     "data": {
      "text/plain": [
       "(50, 1)"
      ]
     },
     "execution_count": 33,
     "metadata": {},
     "output_type": "execute_result"
    }
   ],
   "source": [
    "X_train[-1].shape"
   ]
  },
  {
   "cell_type": "code",
   "execution_count": 34,
   "id": "49e717cc",
   "metadata": {
    "scrolled": true
   },
   "outputs": [
    {
     "name": "stdout",
     "output_type": "stream",
     "text": [
      "1/1 [==============================] - 0s 38ms/step\n"
     ]
    },
    {
     "data": {
      "text/plain": [
       "array([[0.44207025]], dtype=float32)"
      ]
     },
     "execution_count": 34,
     "metadata": {},
     "output_type": "execute_result"
    }
   ],
   "source": [
    "custom_data_reshaped = np.reshape(X_train[-1], (1, 50, 1))\n",
    "model.predict(custom_data_reshaped) "
   ]
  },
  {
   "cell_type": "code",
   "execution_count": 35,
   "id": "95066858",
   "metadata": {},
   "outputs": [
    {
     "data": {
      "text/plain": [
       "0.46875"
      ]
     },
     "execution_count": 35,
     "metadata": {},
     "output_type": "execute_result"
    }
   ],
   "source": [
    "custom_data_reshaped[-1][-1][-1]"
   ]
  },
  {
   "cell_type": "code",
   "execution_count": 36,
   "id": "639feaae",
   "metadata": {},
   "outputs": [
    {
     "data": {
      "text/plain": [
       "0.46875"
      ]
     },
     "execution_count": 36,
     "metadata": {},
     "output_type": "execute_result"
    }
   ],
   "source": [
    "custom_data_reshaped[0][0][0]"
   ]
  },
  {
   "cell_type": "code",
   "execution_count": 37,
   "id": "e4743ba6",
   "metadata": {
    "scrolled": true
   },
   "outputs": [
    {
     "name": "stdout",
     "output_type": "stream",
     "text": [
      "1/1 [==============================] - 0s 27ms/step\n"
     ]
    },
    {
     "data": {
      "text/plain": [
       "0.44207025"
      ]
     },
     "execution_count": 37,
     "metadata": {},
     "output_type": "execute_result"
    }
   ],
   "source": [
    "model.predict(custom_data_reshaped)[0,0]"
   ]
  },
  {
   "cell_type": "code",
   "execution_count": 38,
   "id": "e8b7bac2",
   "metadata": {},
   "outputs": [
    {
     "name": "stdout",
     "output_type": "stream",
     "text": [
      "1/1 [==============================] - 0s 25ms/step\n",
      "1/1 [==============================] - 0s 24ms/step\n",
      "1/1 [==============================] - 0s 27ms/step\n",
      "1/1 [==============================] - 0s 25ms/step\n",
      "1/1 [==============================] - 0s 25ms/step\n",
      "1/1 [==============================] - 0s 25ms/step\n",
      "1/1 [==============================] - 0s 25ms/step\n",
      "1/1 [==============================] - 0s 24ms/step\n",
      "1/1 [==============================] - 0s 25ms/step\n",
      "1/1 [==============================] - 0s 25ms/step\n",
      "1/1 [==============================] - 0s 25ms/step\n",
      "1/1 [==============================] - 0s 23ms/step\n",
      "1/1 [==============================] - 0s 25ms/step\n",
      "1/1 [==============================] - 0s 24ms/step\n",
      "1/1 [==============================] - 0s 26ms/step\n",
      "1/1 [==============================] - 0s 25ms/step\n",
      "1/1 [==============================] - 0s 24ms/step\n",
      "1/1 [==============================] - 0s 26ms/step\n",
      "1/1 [==============================] - 0s 24ms/step\n",
      "1/1 [==============================] - 0s 38ms/step\n",
      "1/1 [==============================] - 0s 23ms/step\n",
      "1/1 [==============================] - 0s 23ms/step\n",
      "1/1 [==============================] - 0s 24ms/step\n",
      "1/1 [==============================] - 0s 26ms/step\n",
      "1/1 [==============================] - 0s 25ms/step\n",
      "1/1 [==============================] - 0s 25ms/step\n",
      "1/1 [==============================] - 0s 25ms/step\n",
      "1/1 [==============================] - 0s 26ms/step\n",
      "1/1 [==============================] - 0s 26ms/step\n",
      "1/1 [==============================] - 0s 25ms/step\n",
      "[0.44207025 0.44245726 0.44367832 0.44528443 0.4469308  0.4484123\n",
      " 0.44961143 0.45049784 0.4510792  0.45138314 0.45146483 0.45137092\n",
      " 0.45114914 0.45084578 0.45049974 0.45012277 0.4497746  0.4494547\n",
      " 0.44914952 0.44887522 0.44863272 0.44841903 0.44825283 0.4480933\n",
      " 0.44796088 0.44784486 0.4477507  0.44767082 0.44760042 0.44754297]\n"
     ]
    }
   ],
   "source": [
    "custom_data_reshaped = np.reshape(X_train[-1], (1, 50, 1))\n",
    "predictions = []\n",
    "\n",
    "for _ in range(30):\n",
    "    next_day_prediction = model.predict(custom_data_reshaped)    \n",
    "    predictions.append(next_day_prediction[0, 0])\n",
    "    # Update 'custom_data_reshaped' for the next iteration using array slicing\n",
    "    custom_data_reshaped = np.concatenate((custom_data_reshaped[:, 1:, :], np.reshape(next_day_prediction, (1, 1, 1))), axis=1)\n",
    "\n",
    "predictions = np.array(predictions)\n",
    "print(predictions)"
   ]
  },
  {
   "cell_type": "code",
   "execution_count": 39,
   "id": "6e72a84b",
   "metadata": {},
   "outputs": [
    {
     "data": {
      "text/plain": [
       "array([0.44207025, 0.44245726, 0.44367832, 0.44528443, 0.4469308 ,\n",
       "       0.4484123 , 0.44961143, 0.45049784, 0.4510792 , 0.45138314,\n",
       "       0.45146483, 0.45137092, 0.45114914, 0.45084578, 0.45049974,\n",
       "       0.45012277, 0.4497746 , 0.4494547 , 0.44914952, 0.44887522,\n",
       "       0.44863272, 0.44841903, 0.44825283, 0.4480933 , 0.44796088,\n",
       "       0.44784486, 0.4477507 , 0.44767082, 0.44760042, 0.44754297],\n",
       "      dtype=float32)"
      ]
     },
     "execution_count": 39,
     "metadata": {},
     "output_type": "execute_result"
    }
   ],
   "source": [
    "predictions"
   ]
  },
  {
   "cell_type": "code",
   "execution_count": 40,
   "id": "f7b6f588",
   "metadata": {},
   "outputs": [],
   "source": [
    "predictions = scaler.inverse_transform(predictions.reshape(-1,1))"
   ]
  },
  {
   "cell_type": "code",
   "execution_count": 41,
   "id": "0f38387a",
   "metadata": {},
   "outputs": [
    {
     "data": {
      "text/plain": [
       "array([[191.46248],\n",
       "       [191.58632],\n",
       "       [191.97707],\n",
       "       [192.49101],\n",
       "       [193.01785],\n",
       "       [193.49194],\n",
       "       [193.87566],\n",
       "       [194.15932],\n",
       "       [194.34534],\n",
       "       [194.4426 ],\n",
       "       [194.46875],\n",
       "       [194.4387 ],\n",
       "       [194.3677 ],\n",
       "       [194.27065],\n",
       "       [194.15993],\n",
       "       [194.03929],\n",
       "       [193.92789],\n",
       "       [193.8255 ],\n",
       "       [193.72784],\n",
       "       [193.64006],\n",
       "       [193.56247],\n",
       "       [193.4941 ],\n",
       "       [193.44089],\n",
       "       [193.38986],\n",
       "       [193.34747],\n",
       "       [193.31036],\n",
       "       [193.28021],\n",
       "       [193.25467],\n",
       "       [193.23213],\n",
       "       [193.21375]], dtype=float32)"
      ]
     },
     "execution_count": 41,
     "metadata": {},
     "output_type": "execute_result"
    }
   ],
   "source": [
    "predictions"
   ]
  },
  {
   "cell_type": "code",
   "execution_count": 42,
   "id": "14739c72",
   "metadata": {
    "scrolled": false
   },
   "outputs": [
    {
     "data": {
      "text/plain": [
       "[<matplotlib.lines.Line2D at 0x246673e2580>]"
      ]
     },
     "execution_count": 42,
     "metadata": {},
     "output_type": "execute_result"
    },
    {
     "data": {
      "image/png": "[encoded data removed]",
      "text/plain": [
       "<Figure size 640x480 with 1 Axes>"
      ]
     },
     "metadata": {},
     "output_type": "display_data"
    }
   ],
   "source": [
    "sns.set_theme(style=\"darkgrid\")\n",
    "plt.plot(predictions)"
   ]
  },
  {
   "cell_type": "code",
   "execution_count": 43,
   "id": "14127f12",
   "metadata": {},
   "outputs": [],
   "source": [
    "def predict_next_30_days_api():\n",
    "    try:\n",
    "        data = np.array([[0.346875],\n",
    "       [0.375   ],\n",
    "       [0.8125  ],\n",
    "       [0.46875 ],\n",
    "       [0.40625 ],\n",
    "       [0.875   ],\n",
    "       [0.371875],\n",
    "       [0.46875 ],\n",
    "       [0.55    ],\n",
    "       [0.40625 ],\n",
    "       [0.1875  ],\n",
    "       [0.46875 ],\n",
    "       [0.46875 ],\n",
    "       [0.46875 ],\n",
    "       [0.209375],\n",
    "       [0.46875 ],\n",
    "       [0.365625],\n",
    "       [0.40625 ],\n",
    "       [0.40625 ],\n",
    "       [0.46875 ],\n",
    "       [0.46875 ],\n",
    "       [1.      ],\n",
    "       [0.40625 ],\n",
    "       [0.40625 ],\n",
    "       [0.59375 ],\n",
    "       [0.175   ],\n",
    "       [0.175   ],\n",
    "       [0.375   ],\n",
    "       [0.7125  ],\n",
    "       [0.46875 ],\n",
    "       [0.40625 ],\n",
    "       [0.28125 ],\n",
    "       [0.375   ],\n",
    "       [0.40625 ],\n",
    "       [0.46875 ],\n",
    "       [0.53125 ],\n",
    "       [0.46875 ],\n",
    "       [0.46875 ],\n",
    "       [0.46875 ],\n",
    "       [0.40625 ],\n",
    "       [0.46875 ],\n",
    "       [0.365625],\n",
    "       [0.46875 ],\n",
    "       [0.175   ],\n",
    "       [0.46875 ],\n",
    "       [0.175   ],\n",
    "       [0.28125 ],\n",
    "       [0.653125],\n",
    "       [0.40625 ],\n",
    "       [0.46875 ]])\n",
    "\n",
    "        # Scale the input data\n",
    "        scaled_data = scaler.transform(np.array(data).reshape(50, 1))\n",
    "\n",
    "        # Reshape the data for model prediction\n",
    "        custom_data_reshaped = np.reshape(scaled_data, (1, 50, 1))\n",
    "\n",
    "        predictions = []\n",
    "\n",
    "        # Generate predictions for the next 30 days\n",
    "        for _ in range(30):\n",
    "            next_day_prediction = model.predict(custom_data_reshaped)\n",
    "            predictions.append(next_day_prediction[0, 0])\n",
    "\n",
    "            # Update 'custom_data_reshaped' for the next iteration\n",
    "            custom_data_reshaped = np.concatenate(\n",
    "                (custom_data_reshaped[:, 1:, :], np.reshape(next_day_prediction, (1, 1, 1))),\n",
    "                axis=1\n",
    "            )\n",
    "        predictions = scaler.inverse_transform([predictions])\n",
    "        return predictions\n",
    "    except Exception as e:\n",
    "        error_message = str(e)\n",
    "        return error_message, 400\n"
   ]
  },
  {
   "cell_type": "code",
   "execution_count": 44,
   "id": "d9519364",
   "metadata": {},
   "outputs": [
    {
     "name": "stdout",
     "output_type": "stream",
     "text": [
      "1/1 [==============================] - 0s 28ms/step\n",
      "1/1 [==============================] - 0s 38ms/step\n",
      "1/1 [==============================] - 0s 26ms/step\n",
      "1/1 [==============================] - 0s 26ms/step\n",
      "1/1 [==============================] - 0s 26ms/step\n",
      "1/1 [==============================] - 0s 28ms/step\n",
      "1/1 [==============================] - 0s 27ms/step\n",
      "1/1 [==============================] - 0s 27ms/step\n",
      "1/1 [==============================] - 0s 26ms/step\n",
      "1/1 [==============================] - 0s 27ms/step\n",
      "1/1 [==============================] - 0s 27ms/step\n",
      "1/1 [==============================] - 0s 40ms/step\n",
      "1/1 [==============================] - 0s 26ms/step\n",
      "1/1 [==============================] - 0s 26ms/step\n",
      "1/1 [==============================] - 0s 25ms/step\n",
      "1/1 [==============================] - 0s 27ms/step\n",
      "1/1 [==============================] - 0s 26ms/step\n",
      "1/1 [==============================] - 0s 26ms/step\n",
      "1/1 [==============================] - 0s 27ms/step\n",
      "1/1 [==============================] - 0s 27ms/step\n",
      "1/1 [==============================] - 0s 25ms/step\n",
      "1/1 [==============================] - 0s 24ms/step\n",
      "1/1 [==============================] - 0s 26ms/step\n",
      "1/1 [==============================] - 0s 27ms/step\n",
      "1/1 [==============================] - 0s 26ms/step\n",
      "1/1 [==============================] - 0s 29ms/step\n",
      "1/1 [==============================] - 0s 27ms/step\n",
      "1/1 [==============================] - 0s 26ms/step\n",
      "1/1 [==============================] - 0s 31ms/step\n",
      "1/1 [==============================] - 0s 26ms/step\n"
     ]
    },
    {
     "data": {
      "text/plain": [
       "array([[234.68286514, 228.24537277, 216.83742523, 208.22023392,\n",
       "        202.00996399, 197.67436981, 194.7426033 , 192.83782959,\n",
       "        191.65622711, 190.6763649 , 189.92225647, 189.40767288,\n",
       "        189.12508011, 189.04903412, 189.13808823, 189.34855461,\n",
       "        189.63970184, 189.97648239, 190.33100128, 190.68256378,\n",
       "        191.01586342, 191.32116318, 191.59319878, 191.83021545,\n",
       "        192.03297615, 192.20378876, 192.34600067, 192.46332169,\n",
       "        192.55954742, 192.63822556]])"
      ]
     },
     "execution_count": 44,
     "metadata": {},
     "output_type": "execute_result"
    }
   ],
   "source": [
    "predict_next_30_days_api()"
   ]
  },
  {
   "cell_type": "code",
   "execution_count": null,
   "id": "85aafd39",
   "metadata": {},
   "outputs": [],
   "source": []
  }
 ],
 "metadata": {
  "kernelspec": {
   "display_name": "tfgpu",
   "language": "python",
   "name": "tfgpu"
  },
  "language_info": {
   "codemirror_mode": {
    "name": "ipython",
    "version": 3
   },
   "file_extension": ".py",
   "mimetype": "text/x-python",
   "name": "python",
   "nbconvert_exporter": "python",
   "pygments_lexer": "ipython3",
   "version": "3.9.0"
  }
 },
 "nbformat": 4,
 "nbformat_minor": 5
}
